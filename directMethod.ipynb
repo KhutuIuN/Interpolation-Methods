{
  "nbformat": 4,
  "nbformat_minor": 0,
  "metadata": {
    "colab": {
      "name": "directMethod.ipynb",
      "provenance": [],
      "collapsed_sections": [],
      "authorship_tag": "ABX9TyOnePr0hw/YsmsoC5W8/jfH",
      "include_colab_link": true
    },
    "kernelspec": {
      "name": "python3",
      "display_name": "Python 3"
    },
    "language_info": {
      "name": "python"
    }
  },
  "cells": [
    {
      "cell_type": "markdown",
      "metadata": {
        "id": "view-in-github",
        "colab_type": "text"
      },
      "source": [
        "<a href=\"https://colab.research.google.com/github/KhutuIuN/Interpolation-Methods/blob/main/directMethod.ipynb\" target=\"_parent\"><img src=\"https://colab.research.google.com/assets/colab-badge.svg\" alt=\"Open In Colab\"/></a>"
      ]
    },
    {
      "cell_type": "code",
      "metadata": {
        "id": "RVohR29ttN3B"
      },
      "source": [
        "import numpy as np\n",
        "import matplotlib.pyplot as plt"
      ],
      "execution_count": null,
      "outputs": []
    },
    {
      "cell_type": "code",
      "metadata": {
        "id": "3x_MpyZhwNx2"
      },
      "source": [
        "def directMethod(sol,wanted):\n",
        "  answer=0\n",
        "  for i in range(len(x)):\n",
        "    answer += sol[i]*wanted**i\n",
        "  return answer[0]"
      ],
      "execution_count": null,
      "outputs": []
    },
    {
      "cell_type": "code",
      "metadata": {
        "id": "0_GHZ8TCtkn7"
      },
      "source": [
        "x = np.array([20,21,23,24,25,27,29,30])\n",
        "y = np.array([346,362,343,339,347,346,339,394])\n",
        "numberToPredict=26\n",
        "xplt=np.linspace(x[0],x[-1],num=10000)\n",
        "yplt=np.array([],float)"
      ],
      "execution_count": null,
      "outputs": []
    },
    {
      "cell_type": "code",
      "metadata": {
        "id": "7OkU5zt4tnAT"
      },
      "source": [
        "#To find Vandermonde matrix\n",
        "new_x=np.vander(x,increasing=True)\n",
        "\n",
        "new_y=y.reshape(8,1)"
      ],
      "execution_count": null,
      "outputs": []
    },
    {
      "cell_type": "code",
      "metadata": {
        "id": "kVY_sRHLvm9_"
      },
      "source": [
        "#To solve linear matrix\n",
        "solution=np.linalg.solve(new_x,new_y)"
      ],
      "execution_count": null,
      "outputs": []
    },
    {
      "cell_type": "code",
      "metadata": {
        "colab": {
          "base_uri": "https://localhost:8080/"
        },
        "id": "lw2XrxV8wQsL",
        "outputId": "a5fe6d70-b600-4664-97f8-c738059c18e1"
      },
      "source": [
        "result=0\n",
        "result=directMethod(solution,numberToPredict)\n",
        "print(\"---Direct Method---\")\n",
        "print(\"Result in \",numberToPredict,\" is \",result)"
      ],
      "execution_count": null,
      "outputs": [
        {
          "output_type": "stream",
          "text": [
            "---Direct Method---\n",
            "Result in  26  is  353.3607143945992\n"
          ],
          "name": "stdout"
        }
      ]
    },
    {
      "cell_type": "code",
      "metadata": {
        "id": "buwcFhI4woPV"
      },
      "source": [
        "for i in xplt:\n",
        "  yplt=np.append(yplt,directMethod(solution,i))"
      ],
      "execution_count": null,
      "outputs": []
    },
    {
      "cell_type": "code",
      "metadata": {
        "colab": {
          "base_uri": "https://localhost:8080/",
          "height": 282
        },
        "id": "Iktt6RKdwr5w",
        "outputId": "88850814-6c9c-4aad-f430-ea6b15277bd4"
      },
      "source": [
        "plt.plot(x,y,\"ro\",xplt,yplt,\"b-\")\n",
        "plt.show"
      ],
      "execution_count": null,
      "outputs": [
        {
          "output_type": "execute_result",
          "data": {
            "text/plain": [
              "<function matplotlib.pyplot.show>"
            ]
          },
          "metadata": {
            "tags": []
          },
          "execution_count": 22
        },
        {
          "output_type": "display_data",
          "data": {
            "image/png": "[encoded data removed]",
            "text/plain": [
              "<Figure size 432x288 with 1 Axes>"
            ]
          },
          "metadata": {
            "tags": [],
            "needs_background": "light"
          }
        }
      ]
    }
  ]
}